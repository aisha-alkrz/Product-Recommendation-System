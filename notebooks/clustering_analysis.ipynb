{
 "cells": [
  {
   "cell_type": "code",
   "execution_count": null,
   "id": "8eb2113d",
   "metadata": {
    "vscode": {
     "languageId": "plaintext"
    }
   },
   "outputs": [],
   "source": [
    "import pandas as pd\n",
    "import matplotlib.pyplot as plt\n",
    "import seaborn as sns\n",
    "from sklearn.cluster import KMeans\n",
    "from sklearn.decomposition import PCA\n",
    "from sklearn.metrics import silhouette_score"
   ]
  },
  {
   "cell_type": "markdown",
   "id": "bdb35740",
   "metadata": {},
   "source": [
    "df_with_price = pd.read_csv(\"../Data/products_with_price.csv\")\n",
    "df_without_price = pd.read_csv(\"../Data/products_without_price.csv\")\n",
    "\n",
    "print(\"With price:\", df_with_price.shape)\n",
    "print(\"Without price:\", df_without_price.shape)"
   ]
  },
  {
   "cell_type": "code",
   "execution_count": null,
   "id": "2ccda640",
   "metadata": {
    "vscode": {
     "languageId": "plaintext"
    }
   },
   "outputs": [],
   "source": [
    "def plot_elbow(data, title):\n",
    "    inertias = []\n",
    "    K = range(2, 11)\n",
    "    for k in K:\n",
    "        kmeans = KMeans(n_clusters=k, random_state=42)\n",
    "        kmeans.fit(data)\n",
    "        inertias.append(kmeans.inertia_)\n",
    "    \n",
    "    plt.plot(K, inertias, marker='o')\n",
    "    plt.title(title)\n",
    "    plt.xlabel(\"Number of clusters (k)\")\n",
    "    plt.ylabel(\"Inertia\")\n",
    "    plt.show()\n",
    "\n",
    "plot_elbow(df_with_price, \"Elbow Method (With Price)\")\n",
    "plot_elbow(df_without_price, \"Elbow Method (Without Price)\")"
   ]
  },
  {
   "cell_type": "code",
   "execution_count": null,
   "id": "5385f76f",
   "metadata": {
    "vscode": {
     "languageId": "plaintext"
    }
   },
   "outputs": [],
   "source": [
    "k = 4  # You can adjust based on Elbow plot\n",
    "\n",
    "kmeans_with = KMeans(n_clusters=k, random_state=42)\n",
    "clusters_with = kmeans_with.fit_predict(df_with_price)\n",
    "\n",
    "kmeans_without = KMeans(n_clusters=k, random_state=42)\n",
    "clusters_without = kmeans_without.fit_predict(df_without_price)"
   ]
  },
  {
   "cell_type": "code",
   "execution_count": null,
   "id": "1c5abafb",
   "metadata": {
    "vscode": {
     "languageId": "plaintext"
    }
   },
   "outputs": [],
   "source": [
    "def plot_clusters(data, labels, title):\n",
    "    pca = PCA(n_components=2)\n",
    "    reduced = pca.fit_transform(data)\n",
    "    \n",
    "    plt.scatter(reduced[:, 0], reduced[:, 1], c=labels, cmap=\"tab10\")\n",
    "    plt.title(title)\n",
    "    plt.xlabel(\"PCA 1\")\n",
    "    plt.ylabel(\"PCA 2\")\n",
    "    plt.show()\n",
    "\n",
    "plot_clusters(df_with_price, clusters_with, \"Clusters with Price\")\n",
    "plot_clusters(df_without_price, clusters_without, \"Clusters without Price\")"
   ]
  },
  {
   "cell_type": "code",
   "execution_count": null,
   "id": "ddf9c383",
   "metadata": {
    "vscode": {
     "languageId": "plaintext"
    }
   },
   "outputs": [],
   "source": [
    "score_with = silhouette_score(df_with_price, clusters_with)\n",
    "score_without = silhouette_score(df_without_price, clusters_without)\n",
    "\n",
    "print(f\"Silhouette Score (with price): {score_with:.3f}\")\n",
    "print(f\"Silhouette Score (without price): {score_without:.3f}\")"
   ]
  }
 ],
 "metadata": {
  "language_info": {
   "name": "python"
  }
 },
 "nbformat": 4,
 "nbformat_minor": 5
}
