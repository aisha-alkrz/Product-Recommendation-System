{
 "cells": [
  {
   "cell_type": "code",
   "execution_count": null,
   "id": "8eb2113d",
   "metadata": {
    "vscode": {
     "languageId": "plaintext"
    }
   },
   "outputs": [],
   "source": [
    "import pandas as pd\n",
    "import matplotlib.pyplot as plt\n",
    "import seaborn as sns\n",
    "from sklearn.cluster import KMeans\n",
    "from sklearn.decomposition import PCA\n",
    "from sklearn.metrics import silhouette_score"
   ]
  },
  {
   "cell_type": "markdown",
   "id": "bdb35740",
   "metadata": {},
   "source": [
    "df_with_price = pd.read_csv(\"../Data/products_with_price.csv\")\n",
    "df_without_price = pd.read_csv(\"../Data/products_without_price.csv\")\n",
    "\n",
    "print(\"With price:\", df_with_price.shape)\n",
    "print(\"Without price:\", df_without_price.shape)"
   ]
  },
  {
   "cell_type": "code",
   "execution_count": null,
   "id": "2ccda640",
   "metadata": {
    "vscode": {
     "languageId": "plaintext"
    }
   },
   "outputs": [],
   "source": [
    "def plot_elbow(data, title):\n",
    "    inertias = []\n",
    "    K = range(2, 11)\n",
    "    for k in K:\n",
    "        kmeans = KMeans(n_clusters=k, random_state=42)\n",
    "        kmeans.fit(data)\n",
    "        inertias.append(kmeans.inertia_)\n",
    "    \n",
    "    plt.plot(K, inertias, marker='o')\n",
    "    plt.title(title)\n",
    "    plt.xlabel(\"Number of clusters (k)\")\n",
    "    plt.ylabel(\"Inertia\")\n",
    "    plt.show()\n",
    "\n",
    "plot_elbow(df_with_price, \"Elbow Method (With Price)\")\n",
    "plot_elbow(df_without_price, \"Elbow Method (Without Price)\")"
   ]
  }
 ],
 "metadata": {
  "language_info": {
   "name": "python"
  }
 },
 "nbformat": 4,
 "nbformat_minor": 5
}
