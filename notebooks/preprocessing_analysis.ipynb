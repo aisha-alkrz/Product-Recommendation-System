{
 "cells": [
  {
   "cell_type": "code",
   "execution_count": 1,
   "id": "53bbbd7b",
   "metadata": {},
   "outputs": [],
   "source": [
    "\n",
    "import sqlite3\n",
    "import pandas as pd\n",
    "import matplotlib.pyplot as plt\n",
    "import seaborn as sns\n",
    "from sklearn.preprocessing import OneHotEncoder\n"
   ]
  },
  {
   "cell_type": "code",
   "execution_count": 2,
   "id": "475595ba",
   "metadata": {},
   "outputs": [
    {
     "data": {
      "text/html": [
       "<div>\n",
       "<style scoped>\n",
       "    .dataframe tbody tr th:only-of-type {\n",
       "        vertical-align: middle;\n",
       "    }\n",
       "\n",
       "    .dataframe tbody tr th {\n",
       "        vertical-align: top;\n",
       "    }\n",
       "\n",
       "    .dataframe thead th {\n",
       "        text-align: right;\n",
       "    }\n",
       "</style>\n",
       "<table border=\"1\" class=\"dataframe\">\n",
       "  <thead>\n",
       "    <tr style=\"text-align: right;\">\n",
       "      <th></th>\n",
       "      <th>product_id</th>\n",
       "      <th>name</th>\n",
       "      <th>price</th>\n",
       "      <th>brand</th>\n",
       "      <th>type</th>\n",
       "      <th>color</th>\n",
       "      <th>category_id</th>\n",
       "      <th>cluster_id_no_price</th>\n",
       "    </tr>\n",
       "  </thead>\n",
       "  <tbody>\n",
       "    <tr>\n",
       "      <th>0</th>\n",
       "      <td>1</td>\n",
       "      <td>Laptop HP 15</td>\n",
       "      <td>1200.0</td>\n",
       "      <td>HP</td>\n",
       "      <td>Laptop</td>\n",
       "      <td>Silver</td>\n",
       "      <td>1</td>\n",
       "      <td>None</td>\n",
       "    </tr>\n",
       "    <tr>\n",
       "      <th>1</th>\n",
       "      <td>2</td>\n",
       "      <td>Gaming Mouse</td>\n",
       "      <td>45.0</td>\n",
       "      <td>Logitech</td>\n",
       "      <td>Mouse</td>\n",
       "      <td>Black</td>\n",
       "      <td>1</td>\n",
       "      <td>None</td>\n",
       "    </tr>\n",
       "    <tr>\n",
       "      <th>2</th>\n",
       "      <td>3</td>\n",
       "      <td>Red Lipstick</td>\n",
       "      <td>25.0</td>\n",
       "      <td>Maybelline</td>\n",
       "      <td>Lipstick</td>\n",
       "      <td>Red</td>\n",
       "      <td>2</td>\n",
       "      <td>None</td>\n",
       "    </tr>\n",
       "    <tr>\n",
       "      <th>3</th>\n",
       "      <td>4</td>\n",
       "      <td>Foundation Cream</td>\n",
       "      <td>60.0</td>\n",
       "      <td>L'Oréal</td>\n",
       "      <td>Foundation</td>\n",
       "      <td>Beige</td>\n",
       "      <td>2</td>\n",
       "      <td>None</td>\n",
       "    </tr>\n",
       "    <tr>\n",
       "      <th>4</th>\n",
       "      <td>5</td>\n",
       "      <td>Office Desk</td>\n",
       "      <td>350.0</td>\n",
       "      <td>IKEA</td>\n",
       "      <td>Desk</td>\n",
       "      <td>Brown</td>\n",
       "      <td>3</td>\n",
       "      <td>None</td>\n",
       "    </tr>\n",
       "  </tbody>\n",
       "</table>\n",
       "</div>"
      ],
      "text/plain": [
       "   product_id              name   price       brand        type   color  \\\n",
       "0           1      Laptop HP 15  1200.0          HP      Laptop  Silver   \n",
       "1           2      Gaming Mouse    45.0    Logitech       Mouse   Black   \n",
       "2           3      Red Lipstick    25.0  Maybelline    Lipstick     Red   \n",
       "3           4  Foundation Cream    60.0     L'Oréal  Foundation   Beige   \n",
       "4           5       Office Desk   350.0        IKEA        Desk   Brown   \n",
       "\n",
       "   category_id cluster_id_no_price  \n",
       "0            1                None  \n",
       "1            1                None  \n",
       "2            2                None  \n",
       "3            2                None  \n",
       "4            3                None  "
      ]
     },
     "execution_count": 2,
     "metadata": {},
     "output_type": "execute_result"
    }
   ],
   "source": [
    "conn = sqlite3.connect(\"../Data/products.db\")\n",
    "df = pd.read_sql_query(\"SELECT * FROM Products\", conn)\n",
    "conn.close()\n",
    "\n",
    "df.head()"
   ]
  },
  {
   "cell_type": "code",
   "execution_count": 3,
   "id": "6e771d52",
   "metadata": {},
   "outputs": [
    {
     "name": "stdout",
     "output_type": "stream",
     "text": [
      "<class 'pandas.core.frame.DataFrame'>\n",
      "RangeIndex: 20 entries, 0 to 19\n",
      "Data columns (total 8 columns):\n",
      " #   Column               Non-Null Count  Dtype  \n",
      "---  ------               --------------  -----  \n",
      " 0   product_id           20 non-null     int64  \n",
      " 1   name                 20 non-null     object \n",
      " 2   price                20 non-null     float64\n",
      " 3   brand                20 non-null     object \n",
      " 4   type                 20 non-null     object \n",
      " 5   color                20 non-null     object \n",
      " 6   category_id          20 non-null     int64  \n",
      " 7   cluster_id_no_price  0 non-null      object \n",
      "dtypes: float64(1), int64(2), object(5)\n",
      "memory usage: 1.4+ KB\n"
     ]
    }
   ],
   "source": [
    "df.info()"
   ]
  },
  {
   "cell_type": "code",
   "execution_count": 4,
   "id": "b1c8ef9e",
   "metadata": {},
   "outputs": [
    {
     "data": {
      "text/plain": [
       "count      20.000000\n",
       "mean      224.200000\n",
       "std       334.997345\n",
       "min        18.000000\n",
       "25%        38.000000\n",
       "50%        72.500000\n",
       "75%       212.500000\n",
       "max      1200.000000\n",
       "Name: price, dtype: float64"
      ]
     },
     "execution_count": 4,
     "metadata": {},
     "output_type": "execute_result"
    }
   ],
   "source": [
    "df[\"price\"].describe()"
   ]
  },
  {
   "cell_type": "code",
   "execution_count": 5,
   "id": "c8f28028",
   "metadata": {},
   "outputs": [
    {
     "data": {
      "image/png": "[encoded data removed]",
      "text/plain": [
       "<Figure size 640x480 with 1 Axes>"
      ]
     },
     "metadata": {},
     "output_type": "display_data"
    }
   ],
   "source": [
    "sns.histplot(df[\"price\"], kde=True, bins=15, color=\"skyblue\")\n",
    "plt.title(\"Price Distribution\")\n",
    "plt.xlabel(\"The Price\")\n",
    "plt.ylabel(\"Count Products\")\n",
    "plt.show()"
   ]
  }
 ],
 "metadata": {
  "kernelspec": {
   "display_name": "Python 3",
   "language": "python",
   "name": "python3"
  },
  "language_info": {
   "codemirror_mode": {
    "name": "ipython",
    "version": 3
   },
   "file_extension": ".py",
   "mimetype": "text/x-python",
   "name": "python",
   "nbconvert_exporter": "python",
   "pygments_lexer": "ipython3",
   "version": "3.13.3"
  }
 },
 "nbformat": 4,
 "nbformat_minor": 5
}
