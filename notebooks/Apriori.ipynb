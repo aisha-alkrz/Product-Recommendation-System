{
 "cells": [
  {
   "cell_type": "markdown",
   "id": "3006268f",
   "metadata": {},
   "source": [
    "استيراد المكتبات | Import Libraries "
   ]
  },
  {
   "cell_type": "code",
   "execution_count": 11,
   "id": "7ac9b3a1",
   "metadata": {},
   "outputs": [],
   "source": [
    "import pandas as pd\n",
    "import sqlite3 as sql\n",
    "from mlxtend.preprocessing import TransactionEncoder\n",
    "from mlxtend.frequent_patterns import apriori, association_rules"
   ]
  },
  {
   "cell_type": "markdown",
   "id": "e04654fd",
   "metadata": {},
   "source": [
    "## Load data from SQLite database"
   ]
  },
  {
   "cell_type": "code",
   "execution_count": null,
   "id": "293551e9",
   "metadata": {},
   "outputs": [
    {
     "data": {
      "text/html": [
       "<div>\n",
       "<style scoped>\n",
       "    .dataframe tbody tr th:only-of-type {\n",
       "        vertical-align: middle;\n",
       "    }\n",
       "\n",
       "    .dataframe tbody tr th {\n",
       "        vertical-align: top;\n",
       "    }\n",
       "\n",
       "    .dataframe thead th {\n",
       "        text-align: right;\n",
       "    }\n",
       "</style>\n",
       "<table border=\"1\" class=\"dataframe\">\n",
       "  <thead>\n",
       "    <tr style=\"text-align: right;\">\n",
       "      <th></th>\n",
       "      <th>invoice_id</th>\n",
       "      <th>product_id</th>\n",
       "    </tr>\n",
       "  </thead>\n",
       "  <tbody>\n",
       "    <tr>\n",
       "      <th>0</th>\n",
       "      <td>2001</td>\n",
       "      <td>9</td>\n",
       "    </tr>\n",
       "    <tr>\n",
       "      <th>1</th>\n",
       "      <td>2001</td>\n",
       "      <td>17</td>\n",
       "    </tr>\n",
       "    <tr>\n",
       "      <th>2</th>\n",
       "      <td>2001</td>\n",
       "      <td>1</td>\n",
       "    </tr>\n",
       "    <tr>\n",
       "      <th>3</th>\n",
       "      <td>2001</td>\n",
       "      <td>25</td>\n",
       "    </tr>\n",
       "    <tr>\n",
       "      <th>4</th>\n",
       "      <td>2002</td>\n",
       "      <td>19</td>\n",
       "    </tr>\n",
       "    <tr>\n",
       "      <th>...</th>\n",
       "      <td>...</td>\n",
       "      <td>...</td>\n",
       "    </tr>\n",
       "    <tr>\n",
       "      <th>141</th>\n",
       "      <td>2039</td>\n",
       "      <td>11</td>\n",
       "    </tr>\n",
       "    <tr>\n",
       "      <th>142</th>\n",
       "      <td>2039</td>\n",
       "      <td>18</td>\n",
       "    </tr>\n",
       "    <tr>\n",
       "      <th>143</th>\n",
       "      <td>2040</td>\n",
       "      <td>17</td>\n",
       "    </tr>\n",
       "    <tr>\n",
       "      <th>144</th>\n",
       "      <td>2040</td>\n",
       "      <td>10</td>\n",
       "    </tr>\n",
       "    <tr>\n",
       "      <th>145</th>\n",
       "      <td>2040</td>\n",
       "      <td>7</td>\n",
       "    </tr>\n",
       "  </tbody>\n",
       "</table>\n",
       "<p>146 rows × 2 columns</p>\n",
       "</div>"
      ],
      "text/plain": [
       "     invoice_id  product_id\n",
       "0          2001           9\n",
       "1          2001          17\n",
       "2          2001           1\n",
       "3          2001          25\n",
       "4          2002          19\n",
       "..          ...         ...\n",
       "141        2039          11\n",
       "142        2039          18\n",
       "143        2040          17\n",
       "144        2040          10\n",
       "145        2040           7\n",
       "\n",
       "[146 rows x 2 columns]"
      ]
     },
     "execution_count": 17,
     "metadata": {},
     "output_type": "execute_result"
    }
   ],
   "source": [
    "conn = sql.connect(\"../data/products.db\")\n",
    "products_df = pd.read_sql_query(\"SELECT * FROM Products\", conn)\n",
    "invoices_df = pd.read_sql_query(\"SELECT * FROM Invoices\", conn)\n",
    "conn.close()"
   ]
  },
  {
   "cell_type": "markdown",
   "id": "b564b755",
   "metadata": {},
   "source": [
    "## Convert invoices to transactions (list of lists of product_ids)"
   ]
  },
  {
   "cell_type": "code",
   "execution_count": 18,
   "id": "15c3b40a",
   "metadata": {},
   "outputs": [],
   "source": [
    "transactions = invoices_df.groupby('invoice_id')['product_id'].apply(list).tolist()"
   ]
  },
  {
   "cell_type": "markdown",
   "id": "707df102",
   "metadata": {},
   "source": [
    "## Create mapping from product_id to product name"
   ]
  },
  {
   "cell_type": "code",
   "execution_count": 19,
   "id": "69a0009e",
   "metadata": {},
   "outputs": [],
   "source": [
    "id_to_name = products_df.set_index('product_id')['name'].to_dict()"
   ]
  },
  {
   "cell_type": "markdown",
   "id": "1d181ed5",
   "metadata": {},
   "source": [
    "## Convert product_ids to product names"
   ]
  },
  {
   "cell_type": "code",
   "execution_count": 20,
   "id": "11ffd799",
   "metadata": {},
   "outputs": [],
   "source": [
    "transactions_named = [\n",
    "    [id_to_name.get(pid, str(pid)) for pid in invoice]\n",
    "    for invoice in transactions\n",
    "]\n"
   ]
  },
  {
   "cell_type": "markdown",
   "id": "4c6bf275",
   "metadata": {},
   "source": [
    "## Save transactions to CSV format"
   ]
  },
  {
   "cell_type": "code",
   "execution_count": 21,
   "id": "93dad953",
   "metadata": {},
   "outputs": [],
   "source": [
    "transactions_path = \"../data/transactions_named.csv\"\n",
    "with open(transactions_path, 'w', encoding='utf-8') as f:\n",
    "    for invoice in transactions_named:\n",
    "        f.write(','.join(invoice) + '\\n')"
   ]
  },
  {
   "cell_type": "markdown",
   "id": "f0a34512",
   "metadata": {},
   "source": [
    "## Convert Data to Data Frame "
   ]
  },
  {
   "cell_type": "code",
   "execution_count": 22,
   "id": "063a42e6",
   "metadata": {},
   "outputs": [],
   "source": [
    "te = TransactionEncoder()\n",
    "te_ary = te.fit(transactions_named).transform(transactions_named)\n",
    "df_transactions = pd.DataFrame(te_ary, columns=te.columns_)"
   ]
  },
  {
   "cell_type": "markdown",
   "id": "170ebee0",
   "metadata": {},
   "source": [
    "## Ecxtra Frequent Itemsets"
   ]
  },
  {
   "cell_type": "code",
   "execution_count": 23,
   "id": "2104f2d5",
   "metadata": {},
   "outputs": [],
   "source": [
    "frequent_itemsets = apriori(df_transactions, min_support=0.1, use_colnames=True)"
   ]
  },
  {
   "cell_type": "markdown",
   "id": "49bf8a03",
   "metadata": {},
   "source": [
    "##  Ecxtra Association Rules"
   ]
  },
  {
   "cell_type": "code",
   "execution_count": 24,
   "id": "ee959431",
   "metadata": {},
   "outputs": [],
   "source": [
    "rules = association_rules(frequent_itemsets, metric=\"lift\", min_threshold=1)"
   ]
  },
  {
   "cell_type": "code",
   "execution_count": 25,
   "id": "38875928",
   "metadata": {},
   "outputs": [
    {
     "data": {
      "text/html": [
       "<div>\n",
       "<style scoped>\n",
       "    .dataframe tbody tr th:only-of-type {\n",
       "        vertical-align: middle;\n",
       "    }\n",
       "\n",
       "    .dataframe tbody tr th {\n",
       "        vertical-align: top;\n",
       "    }\n",
       "\n",
       "    .dataframe thead th {\n",
       "        text-align: right;\n",
       "    }\n",
       "</style>\n",
       "<table border=\"1\" class=\"dataframe\">\n",
       "  <thead>\n",
       "    <tr style=\"text-align: right;\">\n",
       "      <th></th>\n",
       "      <th>antecedents</th>\n",
       "      <th>consequents</th>\n",
       "      <th>support</th>\n",
       "      <th>confidence</th>\n",
       "      <th>lift</th>\n",
       "    </tr>\n",
       "  </thead>\n",
       "  <tbody>\n",
       "    <tr>\n",
       "      <th>6</th>\n",
       "      <td>(Printer)</td>\n",
       "      <td>(Headset)</td>\n",
       "      <td>0.125</td>\n",
       "      <td>0.625000</td>\n",
       "      <td>3.571429</td>\n",
       "    </tr>\n",
       "    <tr>\n",
       "      <th>7</th>\n",
       "      <td>(Headset)</td>\n",
       "      <td>(Printer)</td>\n",
       "      <td>0.125</td>\n",
       "      <td>0.714286</td>\n",
       "      <td>3.571429</td>\n",
       "    </tr>\n",
       "    <tr>\n",
       "      <th>4</th>\n",
       "      <td>(NAS Storage)</td>\n",
       "      <td>(HDMI Cable)</td>\n",
       "      <td>0.125</td>\n",
       "      <td>0.454545</td>\n",
       "      <td>1.818182</td>\n",
       "    </tr>\n",
       "    <tr>\n",
       "      <th>5</th>\n",
       "      <td>(HDMI Cable)</td>\n",
       "      <td>(NAS Storage)</td>\n",
       "      <td>0.125</td>\n",
       "      <td>0.500000</td>\n",
       "      <td>1.818182</td>\n",
       "    </tr>\n",
       "    <tr>\n",
       "      <th>1</th>\n",
       "      <td>(External HDD)</td>\n",
       "      <td>(Conference Webcam)</td>\n",
       "      <td>0.100</td>\n",
       "      <td>0.444444</td>\n",
       "      <td>1.777778</td>\n",
       "    </tr>\n",
       "  </tbody>\n",
       "</table>\n",
       "</div>"
      ],
      "text/plain": [
       "      antecedents          consequents  support  confidence      lift\n",
       "6       (Printer)            (Headset)    0.125    0.625000  3.571429\n",
       "7       (Headset)            (Printer)    0.125    0.714286  3.571429\n",
       "4   (NAS Storage)         (HDMI Cable)    0.125    0.454545  1.818182\n",
       "5    (HDMI Cable)        (NAS Storage)    0.125    0.500000  1.818182\n",
       "1  (External HDD)  (Conference Webcam)    0.100    0.444444  1.777778"
      ]
     },
     "execution_count": 25,
     "metadata": {},
     "output_type": "execute_result"
    }
   ],
   "source": [
    "rules[['antecedents', 'consequents', 'support', 'confidence', 'lift']].sort_values(by='lift', ascending=False).head()"
   ]
  },
  {
   "cell_type": "code",
   "execution_count": 26,
   "id": "95c81680",
   "metadata": {},
   "outputs": [],
   "source": [
    "rules.to_csv(\"../data/apriori_rules.csv\", index=False)"
   ]
  }
 ],
 "metadata": {
  "kernelspec": {
   "display_name": "Python 3",
   "language": "python",
   "name": "python3"
  },
  "language_info": {
   "codemirror_mode": {
    "name": "ipython",
    "version": 3
   },
   "file_extension": ".py",
   "mimetype": "text/x-python",
   "name": "python",
   "nbconvert_exporter": "python",
   "pygments_lexer": "ipython3",
   "version": "3.13.3"
  }
 },
 "nbformat": 4,
 "nbformat_minor": 5
}
